{
 "cells": [
  {
   "cell_type": "markdown",
   "metadata": {},
   "source": [
    "# Scrapper para la página de FREE PROXY"
   ]
  },
  {
   "cell_type": "code",
   "execution_count": 19,
   "metadata": {},
   "outputs": [],
   "source": [
    "from selenium import webdriver\n",
    "from selenium.webdriver.common.by import By\n",
    "from selenium.webdriver.common.keys import Keys\n",
    "from selenium.webdriver.chrome.options import Options\n",
    "from selenium.webdriver.support.ui import WebDriverWait\n",
    "from selenium.webdriver.support import expected_conditions as EC\n",
    "from selenium.common.exceptions import TimeoutException\n",
    "from bs4 import BeautifulSoup\n",
    "import time\n",
    "import pandas as pd\n",
    "from tqdm import tqdm\n",
    "import re\n",
    "import argparse"
   ]
  },
  {
   "cell_type": "markdown",
   "metadata": {},
   "source": [
    "## Configuración de controladores y página web"
   ]
  },
  {
   "cell_type": "code",
   "execution_count": 2,
   "metadata": {},
   "outputs": [],
   "source": [
    "chrome_options = Options()\n",
    "driver = webdriver.Chrome(options=chrome_options)\n",
    "start_url = 'http://free-proxy.cz/'\n",
    "driver.get(start_url)"
   ]
  },
  {
   "cell_type": "markdown",
   "metadata": {},
   "source": [
    "## Scrapper"
   ]
  },
  {
   "cell_type": "code",
   "execution_count": 18,
   "metadata": {},
   "outputs": [
    {
     "name": "stdout",
     "output_type": "stream",
     "text": [
      "147.182.180.242:80147.182.132.21:8032.223.6.94:8068.183.139.110:8888134.209.211.64:80138.199.48.1:8443184.10.84.74:8069.70.244.34:80165.225.208.108:944368.188.59.198:8050.122.86.118:8024.158.29.166:80172.108.208.74:8050.237.89.164:8050.171.32.229:8050.171.32.222:8050.168.163.176:8050.168.163.177:8050.237.89.170:8050.171.32.230:8050.237.89.165:8050.171.32.227:8050.237.89.166:8050.237.89.167:8050.237.89.160:8050.237.89.161:8050.237.89.162:8050.237.89.163:8050.171.32.228:8050.171.32.226:8050.171.32.224:8050.168.163.179:8050.171.32.225:8050.171.32.231:8050.171.74.122:80\n"
     ]
    }
   ],
   "source": [
    "op = driver.find_element(By.XPATH, '//*[@id=\"frmsearchFilter-protocol-1\"]')\n",
    "op.click()\n",
    "filter_proxy = driver.find_element(By.XPATH, '//*[@id=\"frmsearchFilter-send\"]')\n",
    "filter_proxy.click()\n",
    "export = driver.find_element(By.ID, 'clickexport')\n",
    "export.click()\n",
    "\n",
    "# Extracción del html de la página\n",
    "html = driver.page_source\n",
    "soup = BeautifulSoup(html, 'html.parser')\n",
    "div_content = soup.find('div', {'id':'zkzk'}).get_text()\n",
    "\n",
    "#Limpieza\n",
    "clean = re.sub(r'\\.$', '', div_content).strip()\n",
    "\n",
    "#Utilizar split para extraer las direcciones IP y los puertos\n",
    "proxies_list = [proxy.strip() for proxy in div_content.split('<br>') if proxy.strip()]\n",
    "\n",
    "# Pasar proxies_list como argumento a scrapper.ipynb\n",
    "parser = argparse.ArgumentParser()\n",
    "parser.add_argument('--proxies', nargs='+', help='Lista de direcciones y puertos')\n",
    "args = parser.parse_args()\n",
    "\n",
    "print(div_content)\n",
    "\n",
    "\n",
    "\n",
    "\n"
   ]
  }
 ],
 "metadata": {
  "kernelspec": {
   "display_name": "base",
   "language": "python",
   "name": "python3"
  },
  "language_info": {
   "codemirror_mode": {
    "name": "ipython",
    "version": 3
   },
   "file_extension": ".py",
   "mimetype": "text/x-python",
   "name": "python",
   "nbconvert_exporter": "python",
   "pygments_lexer": "ipython3",
   "version": "3.10.9"
  },
  "orig_nbformat": 4
 },
 "nbformat": 4,
 "nbformat_minor": 2
}
